{
 "cells": [
  {
   "cell_type": "markdown",
   "metadata": {},
   "source": [
    "# *Cosmos* via Natural Language Processing, by Sung Been Lee\n",
    "\n",
    "*Cosmos* is a popular science television series written and presented by astronomer and astrophysicist Carl Sagan in which he explored a wide range of scientific subjects, including the origins of the universe, the development of life on Earth, and the search for extraterrestrial life. In addition to its educational value, it is significant for its cultural impact, as the series was widely watched and became a cultural phenomenon with Sagan's distinctive presentation style becoming widely recognized and imitated. The series has been credited with helping to popularize the study of science and inspiring many people to pursue careers in science and related fields.\n",
    "\n",
    "In this project, I will be exploring what insights a computer might be able to gain about *Cosmos*, through various machine learning techniques. The contents of the book is saved as a .txt file named cosmos_by_carl_sagan.txt in the local directory."
   ]
  },
  {
   "cell_type": "markdown",
   "metadata": {},
   "source": [
    "## Data Import & Cleaning"
   ]
  },
  {
   "cell_type": "markdown",
   "metadata": {},
   "source": [
    "To begin, cosmos_by_carl_sagan.txt will be brought into the workspace."
   ]
  },
  {
   "cell_type": "code",
   "execution_count": 1,
   "metadata": {},
   "outputs": [
    {
     "data": {
      "text/plain": [
       "750807"
      ]
     },
     "execution_count": 1,
     "metadata": {},
     "output_type": "execute_result"
    }
   ],
   "source": [
    "file = open(\"cosmos_by_carl_sagan.txt\", \"r\") # read in the book\n",
    "s = ''.join(file.readlines()) # concatenate each line of the book into string s\n",
    "s = s.replace(\"\\n\", \"\") # remove line breaks\n",
    "len(s) # show length of s"
   ]
  },
  {
   "cell_type": "markdown",
   "metadata": {},
   "source": [
    "As evident in the output of `len(s)` above, `s` contains the entire text data within *Cosmos*. The line below displays the first 200 characters of `s`."
   ]
  },
  {
   "cell_type": "code",
   "execution_count": 2,
   "metadata": {},
   "outputs": [
    {
     "data": {
      "text/plain": [
       "'Spacecraft missions to nearby Planets The Library of ancient Alexandria The human brain Egyptian Hieroglyphics The origin of life The death of the Sun The evolution of galaxies The origins of matter, '"
      ]
     },
     "execution_count": 2,
     "metadata": {},
     "output_type": "execute_result"
    }
   ],
   "source": [
    "s[:200] "
   ]
  },
  {
   "cell_type": "markdown",
   "metadata": {},
   "source": [
    "### Split into chapters\n",
    "Since the chapters are demaracted by the all-caps word \"CHAPTER\", `s` will be split on this word to break the text data into chapters. I will be excluding contents of the book before the first chapter as this part of the book is not directly relevant to the main contents of the book."
   ]
  },
  {
   "cell_type": "code",
   "execution_count": 3,
   "metadata": {},
   "outputs": [
    {
     "data": {
      "text/plain": [
       "13"
      ]
     },
     "execution_count": 3,
     "metadata": {},
     "output_type": "execute_result"
    }
   ],
   "source": [
    "chapters = s.split(\"CHAPTER\")[1:] # get rid of text before chapter 1\n",
    "len(chapters) # show length of chapters"
   ]
  },
  {
   "cell_type": "markdown",
   "metadata": {},
   "source": [
    "As seen in the output above, there are a total of 13 chapters. The texts of each chapter will be organized in a `pandas` data frame. The data frame will have two columns: `Chapters` and `Texts`. `Chapters` will contain each of the chapters as integers, and `Texts` will contain the corresponding text data of each of the chapters."
   ]
  },
  {
   "cell_type": "code",
   "execution_count": 4,
   "metadata": {},
   "outputs": [
    {
     "data": {
      "text/html": [
       "<div>\n",
       "<style scoped>\n",
       "    .dataframe tbody tr th:only-of-type {\n",
       "        vertical-align: middle;\n",
       "    }\n",
       "\n",
       "    .dataframe tbody tr th {\n",
       "        vertical-align: top;\n",
       "    }\n",
       "\n",
       "    .dataframe thead th {\n",
       "        text-align: right;\n",
       "    }\n",
       "</style>\n",
       "<table border=\"1\" class=\"dataframe\">\n",
       "  <thead>\n",
       "    <tr style=\"text-align: right;\">\n",
       "      <th></th>\n",
       "      <th>Chapters</th>\n",
       "      <th>Texts</th>\n",
       "    </tr>\n",
       "  </thead>\n",
       "  <tbody>\n",
       "    <tr>\n",
       "      <th>0</th>\n",
       "      <td>1</td>\n",
       "      <td>I The Shores of the Cosmic Ocean The first me...</td>\n",
       "    </tr>\n",
       "    <tr>\n",
       "      <th>1</th>\n",
       "      <td>2</td>\n",
       "      <td>II One Voice in the Cosmic Fugue I am bidden ...</td>\n",
       "    </tr>\n",
       "    <tr>\n",
       "      <th>2</th>\n",
       "      <td>3</td>\n",
       "      <td>III The Harmony of Worlds Do you know the ord...</td>\n",
       "    </tr>\n",
       "    <tr>\n",
       "      <th>3</th>\n",
       "      <td>4</td>\n",
       "      <td>IV Heaven and Hell Nine worlds I remember. - ...</td>\n",
       "    </tr>\n",
       "    <tr>\n",
       "      <th>4</th>\n",
       "      <td>5</td>\n",
       "      <td>V Blues for a Red Planet In the orchards of t...</td>\n",
       "    </tr>\n",
       "    <tr>\n",
       "      <th>5</th>\n",
       "      <td>6</td>\n",
       "      <td>VI Travelers’ Tales Do there exist many world...</td>\n",
       "    </tr>\n",
       "    <tr>\n",
       "      <th>6</th>\n",
       "      <td>7</td>\n",
       "      <td>VII The Backbone of Night They came to a roun...</td>\n",
       "    </tr>\n",
       "    <tr>\n",
       "      <th>7</th>\n",
       "      <td>8</td>\n",
       "      <td>VIII Travels in Space and Time No one has liv...</td>\n",
       "    </tr>\n",
       "    <tr>\n",
       "      <th>8</th>\n",
       "      <td>9</td>\n",
       "      <td>IX The Lives of the Stars Opening his two eye...</td>\n",
       "    </tr>\n",
       "    <tr>\n",
       "      <th>9</th>\n",
       "      <td>10</td>\n",
       "      <td>X The Edge of Forever There is a thing confus...</td>\n",
       "    </tr>\n",
       "    <tr>\n",
       "      <th>10</th>\n",
       "      <td>11</td>\n",
       "      <td>XI The Persistence of Memory Now that the des...</td>\n",
       "    </tr>\n",
       "    <tr>\n",
       "      <th>11</th>\n",
       "      <td>12</td>\n",
       "      <td>XII Encyclopaedia Galactica ‘What are you? Fr...</td>\n",
       "    </tr>\n",
       "    <tr>\n",
       "      <th>12</th>\n",
       "      <td>13</td>\n",
       "      <td>XIII Who Speaks for Earth ? To what purpose s...</td>\n",
       "    </tr>\n",
       "  </tbody>\n",
       "</table>\n",
       "</div>"
      ],
      "text/plain": [
       "    Chapters                                              Texts\n",
       "0          1   I The Shores of the Cosmic Ocean The first me...\n",
       "1          2   II One Voice in the Cosmic Fugue I am bidden ...\n",
       "2          3   III The Harmony of Worlds Do you know the ord...\n",
       "3          4   IV Heaven and Hell Nine worlds I remember. - ...\n",
       "4          5   V Blues for a Red Planet In the orchards of t...\n",
       "5          6   VI Travelers’ Tales Do there exist many world...\n",
       "6          7   VII The Backbone of Night They came to a roun...\n",
       "7          8   VIII Travels in Space and Time No one has liv...\n",
       "8          9   IX The Lives of the Stars Opening his two eye...\n",
       "9         10   X The Edge of Forever There is a thing confus...\n",
       "10        11   XI The Persistence of Memory Now that the des...\n",
       "11        12   XII Encyclopaedia Galactica ‘What are you? Fr...\n",
       "12        13   XIII Who Speaks for Earth ? To what purpose s..."
      ]
     },
     "execution_count": 4,
     "metadata": {},
     "output_type": "execute_result"
    }
   ],
   "source": [
    "import pandas as pd\n",
    "\n",
    "df = pd.DataFrame({\n",
    "    \"Chapters\":range(1, len(chapters)+1),\n",
    "    \"Texts\":chapters\n",
    "})\n",
    "\n",
    "df # show df"
   ]
  },
  {
   "cell_type": "markdown",
   "metadata": {},
   "source": [
    "Next, I am going to use the `CountVectorizer` function from the `sklearn.feature_extraction.text` module. This function will turn the unstructured text into quantitative numbers that can be fed into algorithms. \n",
    "\n",
    "The `CountVectorizer` object will be applied on `df` and stored into `vec`. I have specified the `stop_words`* argument to `\"english\"`. \n",
    "\n",
    "**a stop word is a word that is considered uninteresting for the purposes of natural language processing, for instance, \"she,\" \"can\", and \"the\"*."
   ]
  },
  {
   "cell_type": "code",
   "execution_count": 5,
   "metadata": {},
   "outputs": [
    {
     "data": {
      "text/plain": [
       "scipy.sparse.csr.csr_matrix"
      ]
     },
     "execution_count": 5,
     "metadata": {},
     "output_type": "execute_result"
    }
   ],
   "source": [
    "from sklearn.feature_extraction.text import CountVectorizer\n",
    "import numpy as np\n",
    "\n",
    "vec = CountVectorizer(stop_words = \"english\")\n",
    "counts = vec.fit_transform(df['Texts']) # create a term-document matrix on the text data\n",
    "\n",
    "type(counts) # show type of counts"
   ]
  },
  {
   "cell_type": "markdown",
   "metadata": {},
   "source": [
    "`counts` represents the term-document matrix. However, as shown in the code above, its type is `scipy.sparse.csr.csr_matrix`, which makes it difficult to work with. For this reason, I will be converting it to a `numpy` array with the `toarray()` method."
   ]
  },
  {
   "cell_type": "code",
   "execution_count": 6,
   "metadata": {},
   "outputs": [
    {
     "data": {
      "text/plain": [
       "numpy.ndarray"
      ]
     },
     "execution_count": 6,
     "metadata": {},
     "output_type": "execute_result"
    }
   ],
   "source": [
    "counts = counts.toarray()\n",
    "type(counts)"
   ]
  },
  {
   "cell_type": "code",
   "execution_count": 7,
   "metadata": {},
   "outputs": [
    {
     "data": {
      "text/plain": [
       "(13, 11286)"
      ]
     },
     "execution_count": 7,
     "metadata": {},
     "output_type": "execute_result"
    }
   ],
   "source": [
    "counts.shape # dimension of counts"
   ]
  },
  {
   "cell_type": "markdown",
   "metadata": {},
   "source": [
    "Now that the term-document matrix is synthesized, I will be converting `counts` into a data frame with labeled columns, each column name representing a word that appears in the book. This will be done using the `get_feature_names_out()` method."
   ]
  },
  {
   "cell_type": "code",
   "execution_count": 8,
   "metadata": {},
   "outputs": [
    {
     "data": {
      "text/html": [
       "<div>\n",
       "<style scoped>\n",
       "    .dataframe tbody tr th:only-of-type {\n",
       "        vertical-align: middle;\n",
       "    }\n",
       "\n",
       "    .dataframe tbody tr th {\n",
       "        vertical-align: top;\n",
       "    }\n",
       "\n",
       "    .dataframe thead th {\n",
       "        text-align: right;\n",
       "    }\n",
       "</style>\n",
       "<table border=\"1\" class=\"dataframe\">\n",
       "  <thead>\n",
       "    <tr style=\"text-align: right;\">\n",
       "      <th></th>\n",
       "      <th>000</th>\n",
       "      <th>000a</th>\n",
       "      <th>01</th>\n",
       "      <th>018</th>\n",
       "      <th>0329</th>\n",
       "      <th>04</th>\n",
       "      <th>10</th>\n",
       "      <th>100</th>\n",
       "      <th>1000</th>\n",
       "      <th>1000a</th>\n",
       "      <th>...</th>\n",
       "      <th>zest</th>\n",
       "      <th>zeus</th>\n",
       "      <th>zhou</th>\n",
       "      <th>zodiac</th>\n",
       "      <th>zodiacal</th>\n",
       "      <th>zone</th>\n",
       "      <th>zones</th>\n",
       "      <th>zoo</th>\n",
       "      <th>zoroaster</th>\n",
       "      <th>zoroastrian</th>\n",
       "    </tr>\n",
       "  </thead>\n",
       "  <tbody>\n",
       "    <tr>\n",
       "      <th>0</th>\n",
       "      <td>12</td>\n",
       "      <td>0</td>\n",
       "      <td>0</td>\n",
       "      <td>0</td>\n",
       "      <td>0</td>\n",
       "      <td>0</td>\n",
       "      <td>7</td>\n",
       "      <td>0</td>\n",
       "      <td>0</td>\n",
       "      <td>0</td>\n",
       "      <td>...</td>\n",
       "      <td>0</td>\n",
       "      <td>0</td>\n",
       "      <td>0</td>\n",
       "      <td>0</td>\n",
       "      <td>0</td>\n",
       "      <td>1</td>\n",
       "      <td>0</td>\n",
       "      <td>1</td>\n",
       "      <td>0</td>\n",
       "      <td>0</td>\n",
       "    </tr>\n",
       "    <tr>\n",
       "      <th>1</th>\n",
       "      <td>1</td>\n",
       "      <td>0</td>\n",
       "      <td>0</td>\n",
       "      <td>0</td>\n",
       "      <td>0</td>\n",
       "      <td>0</td>\n",
       "      <td>1</td>\n",
       "      <td>0</td>\n",
       "      <td>0</td>\n",
       "      <td>0</td>\n",
       "      <td>...</td>\n",
       "      <td>0</td>\n",
       "      <td>0</td>\n",
       "      <td>0</td>\n",
       "      <td>0</td>\n",
       "      <td>0</td>\n",
       "      <td>0</td>\n",
       "      <td>0</td>\n",
       "      <td>0</td>\n",
       "      <td>0</td>\n",
       "      <td>0</td>\n",
       "    </tr>\n",
       "    <tr>\n",
       "      <th>2</th>\n",
       "      <td>4</td>\n",
       "      <td>0</td>\n",
       "      <td>0</td>\n",
       "      <td>0</td>\n",
       "      <td>0</td>\n",
       "      <td>0</td>\n",
       "      <td>1</td>\n",
       "      <td>1</td>\n",
       "      <td>0</td>\n",
       "      <td>0</td>\n",
       "      <td>...</td>\n",
       "      <td>0</td>\n",
       "      <td>0</td>\n",
       "      <td>0</td>\n",
       "      <td>2</td>\n",
       "      <td>0</td>\n",
       "      <td>0</td>\n",
       "      <td>0</td>\n",
       "      <td>0</td>\n",
       "      <td>0</td>\n",
       "      <td>1</td>\n",
       "    </tr>\n",
       "    <tr>\n",
       "      <th>3</th>\n",
       "      <td>10</td>\n",
       "      <td>1</td>\n",
       "      <td>0</td>\n",
       "      <td>0</td>\n",
       "      <td>0</td>\n",
       "      <td>0</td>\n",
       "      <td>20</td>\n",
       "      <td>3</td>\n",
       "      <td>0</td>\n",
       "      <td>1</td>\n",
       "      <td>...</td>\n",
       "      <td>0</td>\n",
       "      <td>0</td>\n",
       "      <td>1</td>\n",
       "      <td>0</td>\n",
       "      <td>0</td>\n",
       "      <td>0</td>\n",
       "      <td>0</td>\n",
       "      <td>0</td>\n",
       "      <td>0</td>\n",
       "      <td>0</td>\n",
       "    </tr>\n",
       "    <tr>\n",
       "      <th>4</th>\n",
       "      <td>1</td>\n",
       "      <td>0</td>\n",
       "      <td>0</td>\n",
       "      <td>0</td>\n",
       "      <td>0</td>\n",
       "      <td>0</td>\n",
       "      <td>5</td>\n",
       "      <td>2</td>\n",
       "      <td>0</td>\n",
       "      <td>0</td>\n",
       "      <td>...</td>\n",
       "      <td>0</td>\n",
       "      <td>0</td>\n",
       "      <td>0</td>\n",
       "      <td>0</td>\n",
       "      <td>0</td>\n",
       "      <td>0</td>\n",
       "      <td>0</td>\n",
       "      <td>0</td>\n",
       "      <td>0</td>\n",
       "      <td>0</td>\n",
       "    </tr>\n",
       "    <tr>\n",
       "      <th>5</th>\n",
       "      <td>2</td>\n",
       "      <td>0</td>\n",
       "      <td>0</td>\n",
       "      <td>0</td>\n",
       "      <td>0</td>\n",
       "      <td>1</td>\n",
       "      <td>0</td>\n",
       "      <td>0</td>\n",
       "      <td>0</td>\n",
       "      <td>0</td>\n",
       "      <td>...</td>\n",
       "      <td>1</td>\n",
       "      <td>0</td>\n",
       "      <td>0</td>\n",
       "      <td>0</td>\n",
       "      <td>0</td>\n",
       "      <td>0</td>\n",
       "      <td>0</td>\n",
       "      <td>0</td>\n",
       "      <td>0</td>\n",
       "      <td>0</td>\n",
       "    </tr>\n",
       "    <tr>\n",
       "      <th>6</th>\n",
       "      <td>5</td>\n",
       "      <td>0</td>\n",
       "      <td>0</td>\n",
       "      <td>0</td>\n",
       "      <td>0</td>\n",
       "      <td>0</td>\n",
       "      <td>0</td>\n",
       "      <td>0</td>\n",
       "      <td>1</td>\n",
       "      <td>0</td>\n",
       "      <td>...</td>\n",
       "      <td>1</td>\n",
       "      <td>4</td>\n",
       "      <td>0</td>\n",
       "      <td>0</td>\n",
       "      <td>0</td>\n",
       "      <td>0</td>\n",
       "      <td>0</td>\n",
       "      <td>0</td>\n",
       "      <td>1</td>\n",
       "      <td>0</td>\n",
       "    </tr>\n",
       "    <tr>\n",
       "      <th>7</th>\n",
       "      <td>9</td>\n",
       "      <td>0</td>\n",
       "      <td>1</td>\n",
       "      <td>0</td>\n",
       "      <td>0</td>\n",
       "      <td>0</td>\n",
       "      <td>8</td>\n",
       "      <td>0</td>\n",
       "      <td>0</td>\n",
       "      <td>0</td>\n",
       "      <td>...</td>\n",
       "      <td>0</td>\n",
       "      <td>0</td>\n",
       "      <td>0</td>\n",
       "      <td>1</td>\n",
       "      <td>1</td>\n",
       "      <td>0</td>\n",
       "      <td>0</td>\n",
       "      <td>1</td>\n",
       "      <td>0</td>\n",
       "      <td>0</td>\n",
       "    </tr>\n",
       "    <tr>\n",
       "      <th>8</th>\n",
       "      <td>39</td>\n",
       "      <td>0</td>\n",
       "      <td>0</td>\n",
       "      <td>0</td>\n",
       "      <td>1</td>\n",
       "      <td>0</td>\n",
       "      <td>16</td>\n",
       "      <td>3</td>\n",
       "      <td>2</td>\n",
       "      <td>0</td>\n",
       "      <td>...</td>\n",
       "      <td>0</td>\n",
       "      <td>0</td>\n",
       "      <td>0</td>\n",
       "      <td>0</td>\n",
       "      <td>0</td>\n",
       "      <td>1</td>\n",
       "      <td>0</td>\n",
       "      <td>0</td>\n",
       "      <td>0</td>\n",
       "      <td>0</td>\n",
       "    </tr>\n",
       "    <tr>\n",
       "      <th>9</th>\n",
       "      <td>0</td>\n",
       "      <td>0</td>\n",
       "      <td>0</td>\n",
       "      <td>0</td>\n",
       "      <td>0</td>\n",
       "      <td>0</td>\n",
       "      <td>0</td>\n",
       "      <td>2</td>\n",
       "      <td>0</td>\n",
       "      <td>0</td>\n",
       "      <td>...</td>\n",
       "      <td>0</td>\n",
       "      <td>0</td>\n",
       "      <td>0</td>\n",
       "      <td>0</td>\n",
       "      <td>0</td>\n",
       "      <td>0</td>\n",
       "      <td>0</td>\n",
       "      <td>0</td>\n",
       "      <td>0</td>\n",
       "      <td>0</td>\n",
       "    </tr>\n",
       "    <tr>\n",
       "      <th>10</th>\n",
       "      <td>5</td>\n",
       "      <td>0</td>\n",
       "      <td>0</td>\n",
       "      <td>0</td>\n",
       "      <td>0</td>\n",
       "      <td>0</td>\n",
       "      <td>20</td>\n",
       "      <td>2</td>\n",
       "      <td>0</td>\n",
       "      <td>0</td>\n",
       "      <td>...</td>\n",
       "      <td>0</td>\n",
       "      <td>0</td>\n",
       "      <td>0</td>\n",
       "      <td>0</td>\n",
       "      <td>0</td>\n",
       "      <td>0</td>\n",
       "      <td>1</td>\n",
       "      <td>0</td>\n",
       "      <td>0</td>\n",
       "      <td>0</td>\n",
       "    </tr>\n",
       "    <tr>\n",
       "      <th>11</th>\n",
       "      <td>5</td>\n",
       "      <td>0</td>\n",
       "      <td>0</td>\n",
       "      <td>0</td>\n",
       "      <td>0</td>\n",
       "      <td>0</td>\n",
       "      <td>8</td>\n",
       "      <td>2</td>\n",
       "      <td>0</td>\n",
       "      <td>0</td>\n",
       "      <td>...</td>\n",
       "      <td>0</td>\n",
       "      <td>0</td>\n",
       "      <td>0</td>\n",
       "      <td>0</td>\n",
       "      <td>0</td>\n",
       "      <td>0</td>\n",
       "      <td>0</td>\n",
       "      <td>0</td>\n",
       "      <td>0</td>\n",
       "      <td>0</td>\n",
       "    </tr>\n",
       "    <tr>\n",
       "      <th>12</th>\n",
       "      <td>6</td>\n",
       "      <td>0</td>\n",
       "      <td>0</td>\n",
       "      <td>1</td>\n",
       "      <td>0</td>\n",
       "      <td>0</td>\n",
       "      <td>8</td>\n",
       "      <td>1</td>\n",
       "      <td>0</td>\n",
       "      <td>0</td>\n",
       "      <td>...</td>\n",
       "      <td>0</td>\n",
       "      <td>0</td>\n",
       "      <td>0</td>\n",
       "      <td>0</td>\n",
       "      <td>0</td>\n",
       "      <td>0</td>\n",
       "      <td>0</td>\n",
       "      <td>0</td>\n",
       "      <td>0</td>\n",
       "      <td>0</td>\n",
       "    </tr>\n",
       "  </tbody>\n",
       "</table>\n",
       "<p>13 rows × 11286 columns</p>\n",
       "</div>"
      ],
      "text/plain": [
       "    000  000a  01  018  0329  04  10  100  1000  1000a  ...  zest  zeus  zhou  \\\n",
       "0    12     0   0    0     0   0   7    0     0      0  ...     0     0     0   \n",
       "1     1     0   0    0     0   0   1    0     0      0  ...     0     0     0   \n",
       "2     4     0   0    0     0   0   1    1     0      0  ...     0     0     0   \n",
       "3    10     1   0    0     0   0  20    3     0      1  ...     0     0     1   \n",
       "4     1     0   0    0     0   0   5    2     0      0  ...     0     0     0   \n",
       "5     2     0   0    0     0   1   0    0     0      0  ...     1     0     0   \n",
       "6     5     0   0    0     0   0   0    0     1      0  ...     1     4     0   \n",
       "7     9     0   1    0     0   0   8    0     0      0  ...     0     0     0   \n",
       "8    39     0   0    0     1   0  16    3     2      0  ...     0     0     0   \n",
       "9     0     0   0    0     0   0   0    2     0      0  ...     0     0     0   \n",
       "10    5     0   0    0     0   0  20    2     0      0  ...     0     0     0   \n",
       "11    5     0   0    0     0   0   8    2     0      0  ...     0     0     0   \n",
       "12    6     0   0    1     0   0   8    1     0      0  ...     0     0     0   \n",
       "\n",
       "    zodiac  zodiacal  zone  zones  zoo  zoroaster  zoroastrian  \n",
       "0        0         0     1      0    1          0            0  \n",
       "1        0         0     0      0    0          0            0  \n",
       "2        2         0     0      0    0          0            1  \n",
       "3        0         0     0      0    0          0            0  \n",
       "4        0         0     0      0    0          0            0  \n",
       "5        0         0     0      0    0          0            0  \n",
       "6        0         0     0      0    0          1            0  \n",
       "7        1         1     0      0    1          0            0  \n",
       "8        0         0     1      0    0          0            0  \n",
       "9        0         0     0      0    0          0            0  \n",
       "10       0         0     0      1    0          0            0  \n",
       "11       0         0     0      0    0          0            0  \n",
       "12       0         0     0      0    0          0            0  \n",
       "\n",
       "[13 rows x 11286 columns]"
      ]
     },
     "execution_count": 8,
     "metadata": {},
     "output_type": "execute_result"
    }
   ],
   "source": [
    "count_df = pd.DataFrame(counts, columns = vec.get_feature_names_out())\n",
    "count_df"
   ]
  },
  {
   "cell_type": "markdown",
   "metadata": {},
   "source": [
    "Now that a term-document matrix in the form of a data frame is created, it will be concatenated with the original data frame with chapter and text data. In addition, columns that represent non-English words such as 000, 000a01, and 10, will be removed from the data frame."
   ]
  },
  {
   "cell_type": "code",
   "execution_count": 9,
   "metadata": {},
   "outputs": [
    {
     "data": {
      "text/html": [
       "<div>\n",
       "<style scoped>\n",
       "    .dataframe tbody tr th:only-of-type {\n",
       "        vertical-align: middle;\n",
       "    }\n",
       "\n",
       "    .dataframe tbody tr th {\n",
       "        vertical-align: top;\n",
       "    }\n",
       "\n",
       "    .dataframe thead th {\n",
       "        text-align: right;\n",
       "    }\n",
       "</style>\n",
       "<table border=\"1\" class=\"dataframe\">\n",
       "  <thead>\n",
       "    <tr style=\"text-align: right;\">\n",
       "      <th></th>\n",
       "      <th>Chapters</th>\n",
       "      <th>Texts</th>\n",
       "      <th>abalone</th>\n",
       "      <th>abandon</th>\n",
       "      <th>abandoned</th>\n",
       "      <th>abbott</th>\n",
       "      <th>abdera</th>\n",
       "      <th>aberration</th>\n",
       "      <th>abide</th>\n",
       "      <th>abiding</th>\n",
       "      <th>...</th>\n",
       "      <th>zest</th>\n",
       "      <th>zeus</th>\n",
       "      <th>zhou</th>\n",
       "      <th>zodiac</th>\n",
       "      <th>zodiacal</th>\n",
       "      <th>zone</th>\n",
       "      <th>zones</th>\n",
       "      <th>zoo</th>\n",
       "      <th>zoroaster</th>\n",
       "      <th>zoroastrian</th>\n",
       "    </tr>\n",
       "  </thead>\n",
       "  <tbody>\n",
       "    <tr>\n",
       "      <th>0</th>\n",
       "      <td>1</td>\n",
       "      <td>I The Shores of the Cosmic Ocean The first me...</td>\n",
       "      <td>0</td>\n",
       "      <td>0</td>\n",
       "      <td>0</td>\n",
       "      <td>0</td>\n",
       "      <td>0</td>\n",
       "      <td>0</td>\n",
       "      <td>0</td>\n",
       "      <td>0</td>\n",
       "      <td>...</td>\n",
       "      <td>0</td>\n",
       "      <td>0</td>\n",
       "      <td>0</td>\n",
       "      <td>0</td>\n",
       "      <td>0</td>\n",
       "      <td>1</td>\n",
       "      <td>0</td>\n",
       "      <td>1</td>\n",
       "      <td>0</td>\n",
       "      <td>0</td>\n",
       "    </tr>\n",
       "    <tr>\n",
       "      <th>1</th>\n",
       "      <td>2</td>\n",
       "      <td>II One Voice in the Cosmic Fugue I am bidden ...</td>\n",
       "      <td>0</td>\n",
       "      <td>0</td>\n",
       "      <td>0</td>\n",
       "      <td>0</td>\n",
       "      <td>0</td>\n",
       "      <td>0</td>\n",
       "      <td>1</td>\n",
       "      <td>0</td>\n",
       "      <td>...</td>\n",
       "      <td>0</td>\n",
       "      <td>0</td>\n",
       "      <td>0</td>\n",
       "      <td>0</td>\n",
       "      <td>0</td>\n",
       "      <td>0</td>\n",
       "      <td>0</td>\n",
       "      <td>0</td>\n",
       "      <td>0</td>\n",
       "      <td>0</td>\n",
       "    </tr>\n",
       "    <tr>\n",
       "      <th>2</th>\n",
       "      <td>3</td>\n",
       "      <td>III The Harmony of Worlds Do you know the ord...</td>\n",
       "      <td>0</td>\n",
       "      <td>2</td>\n",
       "      <td>1</td>\n",
       "      <td>0</td>\n",
       "      <td>0</td>\n",
       "      <td>0</td>\n",
       "      <td>0</td>\n",
       "      <td>0</td>\n",
       "      <td>...</td>\n",
       "      <td>0</td>\n",
       "      <td>0</td>\n",
       "      <td>0</td>\n",
       "      <td>2</td>\n",
       "      <td>0</td>\n",
       "      <td>0</td>\n",
       "      <td>0</td>\n",
       "      <td>0</td>\n",
       "      <td>0</td>\n",
       "      <td>1</td>\n",
       "    </tr>\n",
       "    <tr>\n",
       "      <th>3</th>\n",
       "      <td>4</td>\n",
       "      <td>IV Heaven and Hell Nine worlds I remember. - ...</td>\n",
       "      <td>0</td>\n",
       "      <td>0</td>\n",
       "      <td>1</td>\n",
       "      <td>0</td>\n",
       "      <td>0</td>\n",
       "      <td>0</td>\n",
       "      <td>0</td>\n",
       "      <td>0</td>\n",
       "      <td>...</td>\n",
       "      <td>0</td>\n",
       "      <td>0</td>\n",
       "      <td>1</td>\n",
       "      <td>0</td>\n",
       "      <td>0</td>\n",
       "      <td>0</td>\n",
       "      <td>0</td>\n",
       "      <td>0</td>\n",
       "      <td>0</td>\n",
       "      <td>0</td>\n",
       "    </tr>\n",
       "    <tr>\n",
       "      <th>4</th>\n",
       "      <td>5</td>\n",
       "      <td>V Blues for a Red Planet In the orchards of t...</td>\n",
       "      <td>0</td>\n",
       "      <td>0</td>\n",
       "      <td>0</td>\n",
       "      <td>0</td>\n",
       "      <td>0</td>\n",
       "      <td>0</td>\n",
       "      <td>0</td>\n",
       "      <td>0</td>\n",
       "      <td>...</td>\n",
       "      <td>0</td>\n",
       "      <td>0</td>\n",
       "      <td>0</td>\n",
       "      <td>0</td>\n",
       "      <td>0</td>\n",
       "      <td>0</td>\n",
       "      <td>0</td>\n",
       "      <td>0</td>\n",
       "      <td>0</td>\n",
       "      <td>0</td>\n",
       "    </tr>\n",
       "  </tbody>\n",
       "</table>\n",
       "<p>5 rows × 11047 columns</p>\n",
       "</div>"
      ],
      "text/plain": [
       "   Chapters                                              Texts  abalone  \\\n",
       "0         1   I The Shores of the Cosmic Ocean The first me...        0   \n",
       "1         2   II One Voice in the Cosmic Fugue I am bidden ...        0   \n",
       "2         3   III The Harmony of Worlds Do you know the ord...        0   \n",
       "3         4   IV Heaven and Hell Nine worlds I remember. - ...        0   \n",
       "4         5   V Blues for a Red Planet In the orchards of t...        0   \n",
       "\n",
       "   abandon  abandoned  abbott  abdera  aberration  abide  abiding  ...  zest  \\\n",
       "0        0          0       0       0           0      0        0  ...     0   \n",
       "1        0          0       0       0           0      1        0  ...     0   \n",
       "2        2          1       0       0           0      0        0  ...     0   \n",
       "3        0          1       0       0           0      0        0  ...     0   \n",
       "4        0          0       0       0           0      0        0  ...     0   \n",
       "\n",
       "   zeus  zhou  zodiac  zodiacal  zone  zones  zoo  zoroaster  zoroastrian  \n",
       "0     0     0       0         0     1      0    1          0            0  \n",
       "1     0     0       0         0     0      0    0          0            0  \n",
       "2     0     0       2         0     0      0    0          0            1  \n",
       "3     0     1       0         0     0      0    0          0            0  \n",
       "4     0     0       0         0     0      0    0          0            0  \n",
       "\n",
       "[5 rows x 11047 columns]"
      ]
     },
     "execution_count": 9,
     "metadata": {},
     "output_type": "execute_result"
    }
   ],
   "source": [
    "df = pd.concat((df,count_df), axis = 1)\n",
    "df = df.drop(columns = df.columns[2:243])\n",
    "df.head(5) # show first 5 observations"
   ]
  },
  {
   "cell_type": "markdown",
   "metadata": {},
   "source": [
    "## Interpreting the Term-Document Matrix\n",
    "\n",
    "Now that the data frames are concatenated and cleaned, the term-document matrix can be used to check how frequently a given term appears in each chapter of the novel by indexing the term as a column. For instance, the code below displays how many times the word 'human' appeared in each capter of the book."
   ]
  },
  {
   "cell_type": "code",
   "execution_count": 10,
   "metadata": {},
   "outputs": [
    {
     "data": {
      "text/html": [
       "<div>\n",
       "<style scoped>\n",
       "    .dataframe tbody tr th:only-of-type {\n",
       "        vertical-align: middle;\n",
       "    }\n",
       "\n",
       "    .dataframe tbody tr th {\n",
       "        vertical-align: top;\n",
       "    }\n",
       "\n",
       "    .dataframe thead th {\n",
       "        text-align: right;\n",
       "    }\n",
       "</style>\n",
       "<table border=\"1\" class=\"dataframe\">\n",
       "  <thead>\n",
       "    <tr style=\"text-align: right;\">\n",
       "      <th></th>\n",
       "      <th>Chapters</th>\n",
       "      <th>human</th>\n",
       "    </tr>\n",
       "  </thead>\n",
       "  <tbody>\n",
       "    <tr>\n",
       "      <th>0</th>\n",
       "      <td>1</td>\n",
       "      <td>6</td>\n",
       "    </tr>\n",
       "    <tr>\n",
       "      <th>1</th>\n",
       "      <td>2</td>\n",
       "      <td>19</td>\n",
       "    </tr>\n",
       "    <tr>\n",
       "      <th>2</th>\n",
       "      <td>3</td>\n",
       "      <td>12</td>\n",
       "    </tr>\n",
       "    <tr>\n",
       "      <th>3</th>\n",
       "      <td>4</td>\n",
       "      <td>9</td>\n",
       "    </tr>\n",
       "    <tr>\n",
       "      <th>4</th>\n",
       "      <td>5</td>\n",
       "      <td>20</td>\n",
       "    </tr>\n",
       "    <tr>\n",
       "      <th>5</th>\n",
       "      <td>6</td>\n",
       "      <td>15</td>\n",
       "    </tr>\n",
       "    <tr>\n",
       "      <th>6</th>\n",
       "      <td>7</td>\n",
       "      <td>17</td>\n",
       "    </tr>\n",
       "    <tr>\n",
       "      <th>7</th>\n",
       "      <td>8</td>\n",
       "      <td>12</td>\n",
       "    </tr>\n",
       "    <tr>\n",
       "      <th>8</th>\n",
       "      <td>9</td>\n",
       "      <td>3</td>\n",
       "    </tr>\n",
       "    <tr>\n",
       "      <th>9</th>\n",
       "      <td>10</td>\n",
       "      <td>5</td>\n",
       "    </tr>\n",
       "    <tr>\n",
       "      <th>10</th>\n",
       "      <td>11</td>\n",
       "      <td>24</td>\n",
       "    </tr>\n",
       "    <tr>\n",
       "      <th>11</th>\n",
       "      <td>12</td>\n",
       "      <td>13</td>\n",
       "    </tr>\n",
       "    <tr>\n",
       "      <th>12</th>\n",
       "      <td>13</td>\n",
       "      <td>31</td>\n",
       "    </tr>\n",
       "  </tbody>\n",
       "</table>\n",
       "</div>"
      ],
      "text/plain": [
       "    Chapters  human\n",
       "0          1      6\n",
       "1          2     19\n",
       "2          3     12\n",
       "3          4      9\n",
       "4          5     20\n",
       "5          6     15\n",
       "6          7     17\n",
       "7          8     12\n",
       "8          9      3\n",
       "9         10      5\n",
       "10        11     24\n",
       "11        12     13\n",
       "12        13     31"
      ]
     },
     "execution_count": 10,
     "metadata": {},
     "output_type": "execute_result"
    }
   ],
   "source": [
    "df[['Chapters','human']]"
   ]
  },
  {
   "cell_type": "markdown",
   "metadata": {},
   "source": [
    "Now, I will use `matplotlib` to visualize how words like 'cosmos', 'time', 'human', 'stars', 'universe', and 'god' appear throughout the book. Note that there are no inherent significance of these words—these are just words that I personally find interesting in relation to the theme of the book."
   ]
  },
  {
   "cell_type": "code",
   "execution_count": 11,
   "metadata": {},
   "outputs": [
    {
     "data": {
      "text/plain": [
       "<matplotlib.legend.Legend at 0x7fda1253fd90>"
      ]
     },
     "execution_count": 11,
     "metadata": {},
     "output_type": "execute_result"
    },
    {
     "data": {
      "image/png": "[encoded data removed]",
      "text/plain": [
       "<Figure size 504x360 with 1 Axes>"
      ]
     },
     "metadata": {
      "needs_background": "light"
     },
     "output_type": "display_data"
    }
   ],
   "source": [
    "from matplotlib import pyplot as plt\n",
    "\n",
    "words = ['cosmos','time','human','stars','universe','god']\n",
    "fig, ax = plt.subplots(1, figsize = (7,5))\n",
    "\n",
    "# plot each word on the figure\n",
    "for word in words:\n",
    "    ax.plot(df[word], label = word)\n",
    "\n",
    "ax.set(ylim = (0, None),\n",
    "       ylabel = \"Number of Mentions\",\n",
    "       xlabel = \"Chapter\")\n",
    "\n",
    "ax.legend()"
   ]
  },
  {
   "cell_type": "markdown",
   "metadata": {},
   "source": [
    "As evident in the figure above, the words of interest appear many times throughout the chapters, but certain chapters mention them more freqently than others. Specifically, 'stars' is mentioned substantially more frequently in chapters 6 through 9 than in other chapters and, perhaps most notably, 'universe' appears to be a distinctively salient in chapter 9, as it is mentioned dramatically more in the chapter than in other chapters. \n",
    "\n",
    "This leads me to hypothesize that this is due to the fact that in the later chapters, Dr. Sagan discusses the broader implications of the scientific findings explored in the earlier chapters, making use of words like 'universe' more regularly. In the next section, I will be evaluating the accuracy of this hypothesis with topic modeling."
   ]
  },
  {
   "cell_type": "markdown",
   "metadata": {},
   "source": [
    "## Topic Modeling\n",
    "\n",
    "In this section, I will be using `scikit-learn` to perform topic modeling, a type of unsuprivised machine learning technique that automatically extracts the main topics from a collection of documents. The overall aim of this section is to get a coarse, topic-level summary of the plot of *Cosmos*.\n",
    "\n",
    "To begin, I will redefine `df` as a data frame that contains the `Chapters` and `Texts` columns—how it origianlly was before the term-document matrix."
   ]
  },
  {
   "cell_type": "code",
   "execution_count": 12,
   "metadata": {},
   "outputs": [
    {
     "data": {
      "text/html": [
       "<div>\n",
       "<style scoped>\n",
       "    .dataframe tbody tr th:only-of-type {\n",
       "        vertical-align: middle;\n",
       "    }\n",
       "\n",
       "    .dataframe tbody tr th {\n",
       "        vertical-align: top;\n",
       "    }\n",
       "\n",
       "    .dataframe thead th {\n",
       "        text-align: right;\n",
       "    }\n",
       "</style>\n",
       "<table border=\"1\" class=\"dataframe\">\n",
       "  <thead>\n",
       "    <tr style=\"text-align: right;\">\n",
       "      <th></th>\n",
       "      <th>Chapters</th>\n",
       "      <th>Texts</th>\n",
       "    </tr>\n",
       "  </thead>\n",
       "  <tbody>\n",
       "    <tr>\n",
       "      <th>0</th>\n",
       "      <td>1</td>\n",
       "      <td>I The Shores of the Cosmic Ocean The first me...</td>\n",
       "    </tr>\n",
       "    <tr>\n",
       "      <th>1</th>\n",
       "      <td>2</td>\n",
       "      <td>II One Voice in the Cosmic Fugue I am bidden ...</td>\n",
       "    </tr>\n",
       "    <tr>\n",
       "      <th>2</th>\n",
       "      <td>3</td>\n",
       "      <td>III The Harmony of Worlds Do you know the ord...</td>\n",
       "    </tr>\n",
       "    <tr>\n",
       "      <th>3</th>\n",
       "      <td>4</td>\n",
       "      <td>IV Heaven and Hell Nine worlds I remember. - ...</td>\n",
       "    </tr>\n",
       "    <tr>\n",
       "      <th>4</th>\n",
       "      <td>5</td>\n",
       "      <td>V Blues for a Red Planet In the orchards of t...</td>\n",
       "    </tr>\n",
       "    <tr>\n",
       "      <th>5</th>\n",
       "      <td>6</td>\n",
       "      <td>VI Travelers’ Tales Do there exist many world...</td>\n",
       "    </tr>\n",
       "    <tr>\n",
       "      <th>6</th>\n",
       "      <td>7</td>\n",
       "      <td>VII The Backbone of Night They came to a roun...</td>\n",
       "    </tr>\n",
       "    <tr>\n",
       "      <th>7</th>\n",
       "      <td>8</td>\n",
       "      <td>VIII Travels in Space and Time No one has liv...</td>\n",
       "    </tr>\n",
       "    <tr>\n",
       "      <th>8</th>\n",
       "      <td>9</td>\n",
       "      <td>IX The Lives of the Stars Opening his two eye...</td>\n",
       "    </tr>\n",
       "    <tr>\n",
       "      <th>9</th>\n",
       "      <td>10</td>\n",
       "      <td>X The Edge of Forever There is a thing confus...</td>\n",
       "    </tr>\n",
       "    <tr>\n",
       "      <th>10</th>\n",
       "      <td>11</td>\n",
       "      <td>XI The Persistence of Memory Now that the des...</td>\n",
       "    </tr>\n",
       "    <tr>\n",
       "      <th>11</th>\n",
       "      <td>12</td>\n",
       "      <td>XII Encyclopaedia Galactica ‘What are you? Fr...</td>\n",
       "    </tr>\n",
       "    <tr>\n",
       "      <th>12</th>\n",
       "      <td>13</td>\n",
       "      <td>XIII Who Speaks for Earth ? To what purpose s...</td>\n",
       "    </tr>\n",
       "  </tbody>\n",
       "</table>\n",
       "</div>"
      ],
      "text/plain": [
       "    Chapters                                              Texts\n",
       "0          1   I The Shores of the Cosmic Ocean The first me...\n",
       "1          2   II One Voice in the Cosmic Fugue I am bidden ...\n",
       "2          3   III The Harmony of Worlds Do you know the ord...\n",
       "3          4   IV Heaven and Hell Nine worlds I remember. - ...\n",
       "4          5   V Blues for a Red Planet In the orchards of t...\n",
       "5          6   VI Travelers’ Tales Do there exist many world...\n",
       "6          7   VII The Backbone of Night They came to a roun...\n",
       "7          8   VIII Travels in Space and Time No one has liv...\n",
       "8          9   IX The Lives of the Stars Opening his two eye...\n",
       "9         10   X The Edge of Forever There is a thing confus...\n",
       "10        11   XI The Persistence of Memory Now that the des...\n",
       "11        12   XII Encyclopaedia Galactica ‘What are you? Fr...\n",
       "12        13   XIII Who Speaks for Earth ? To what purpose s..."
      ]
     },
     "execution_count": 12,
     "metadata": {},
     "output_type": "execute_result"
    }
   ],
   "source": [
    "df = pd.DataFrame({\n",
    "    \"Chapters\":range(1,len(chapters)+1),\n",
    "     \"Texts\":chapters\n",
    "})\n",
    "\n",
    "df"
   ]
  },
  {
   "cell_type": "markdown",
   "metadata": {},
   "source": [
    "Next, I will again use `CountVectorizer` to create a term-document matrix. However, in this case, because the aim is to visualize how certain topics evolve across chapters, I will use the `max_df` argument to only include words that appear in at most 70% of the chapters, expressed as `max_df = .7`.  The `min_df` argument will be set to `0`."
   ]
  },
  {
   "cell_type": "code",
   "execution_count": 13,
   "metadata": {},
   "outputs": [],
   "source": [
    "from sklearn.feature_extraction.text import CountVectorizer\n",
    "\n",
    "vec = CountVectorizer(max_df = .7, min_df = 0, stop_words = \"english\")"
   ]
  },
  {
   "cell_type": "markdown",
   "metadata": {},
   "source": [
    "Now, `vec` will be used to create the term-document matrix and collect it all as a data frame. Because of the `max_df = .7` argument of the `CountVectorizer` method, the number of words (columns) to remove from the data frame is now `df.columns[2:241]`, as the first two columns (`Chapters` and `Texts`) need to be preserved, and the other non-english words need to be removed. "
   ]
  },
  {
   "cell_type": "code",
   "execution_count": 14,
   "metadata": {
    "scrolled": true
   },
   "outputs": [
    {
     "data": {
      "text/html": [
       "<div>\n",
       "<style scoped>\n",
       "    .dataframe tbody tr th:only-of-type {\n",
       "        vertical-align: middle;\n",
       "    }\n",
       "\n",
       "    .dataframe tbody tr th {\n",
       "        vertical-align: top;\n",
       "    }\n",
       "\n",
       "    .dataframe thead th {\n",
       "        text-align: right;\n",
       "    }\n",
       "</style>\n",
       "<table border=\"1\" class=\"dataframe\">\n",
       "  <thead>\n",
       "    <tr style=\"text-align: right;\">\n",
       "      <th></th>\n",
       "      <th>Chapters</th>\n",
       "      <th>Texts</th>\n",
       "      <th>abalone</th>\n",
       "      <th>abandon</th>\n",
       "      <th>abandoned</th>\n",
       "      <th>abbott</th>\n",
       "      <th>abdera</th>\n",
       "      <th>aberration</th>\n",
       "      <th>abide</th>\n",
       "      <th>abiding</th>\n",
       "      <th>...</th>\n",
       "      <th>zest</th>\n",
       "      <th>zeus</th>\n",
       "      <th>zhou</th>\n",
       "      <th>zodiac</th>\n",
       "      <th>zodiacal</th>\n",
       "      <th>zone</th>\n",
       "      <th>zones</th>\n",
       "      <th>zoo</th>\n",
       "      <th>zoroaster</th>\n",
       "      <th>zoroastrian</th>\n",
       "    </tr>\n",
       "  </thead>\n",
       "  <tbody>\n",
       "    <tr>\n",
       "      <th>0</th>\n",
       "      <td>1</td>\n",
       "      <td>I The Shores of the Cosmic Ocean The first me...</td>\n",
       "      <td>0</td>\n",
       "      <td>0</td>\n",
       "      <td>0</td>\n",
       "      <td>0</td>\n",
       "      <td>0</td>\n",
       "      <td>0</td>\n",
       "      <td>0</td>\n",
       "      <td>0</td>\n",
       "      <td>...</td>\n",
       "      <td>0</td>\n",
       "      <td>0</td>\n",
       "      <td>0</td>\n",
       "      <td>0</td>\n",
       "      <td>0</td>\n",
       "      <td>1</td>\n",
       "      <td>0</td>\n",
       "      <td>1</td>\n",
       "      <td>0</td>\n",
       "      <td>0</td>\n",
       "    </tr>\n",
       "    <tr>\n",
       "      <th>1</th>\n",
       "      <td>2</td>\n",
       "      <td>II One Voice in the Cosmic Fugue I am bidden ...</td>\n",
       "      <td>0</td>\n",
       "      <td>0</td>\n",
       "      <td>0</td>\n",
       "      <td>0</td>\n",
       "      <td>0</td>\n",
       "      <td>0</td>\n",
       "      <td>1</td>\n",
       "      <td>0</td>\n",
       "      <td>...</td>\n",
       "      <td>0</td>\n",
       "      <td>0</td>\n",
       "      <td>0</td>\n",
       "      <td>0</td>\n",
       "      <td>0</td>\n",
       "      <td>0</td>\n",
       "      <td>0</td>\n",
       "      <td>0</td>\n",
       "      <td>0</td>\n",
       "      <td>0</td>\n",
       "    </tr>\n",
       "    <tr>\n",
       "      <th>2</th>\n",
       "      <td>3</td>\n",
       "      <td>III The Harmony of Worlds Do you know the ord...</td>\n",
       "      <td>0</td>\n",
       "      <td>2</td>\n",
       "      <td>1</td>\n",
       "      <td>0</td>\n",
       "      <td>0</td>\n",
       "      <td>0</td>\n",
       "      <td>0</td>\n",
       "      <td>0</td>\n",
       "      <td>...</td>\n",
       "      <td>0</td>\n",
       "      <td>0</td>\n",
       "      <td>0</td>\n",
       "      <td>2</td>\n",
       "      <td>0</td>\n",
       "      <td>0</td>\n",
       "      <td>0</td>\n",
       "      <td>0</td>\n",
       "      <td>0</td>\n",
       "      <td>1</td>\n",
       "    </tr>\n",
       "    <tr>\n",
       "      <th>3</th>\n",
       "      <td>4</td>\n",
       "      <td>IV Heaven and Hell Nine worlds I remember. - ...</td>\n",
       "      <td>0</td>\n",
       "      <td>0</td>\n",
       "      <td>1</td>\n",
       "      <td>0</td>\n",
       "      <td>0</td>\n",
       "      <td>0</td>\n",
       "      <td>0</td>\n",
       "      <td>0</td>\n",
       "      <td>...</td>\n",
       "      <td>0</td>\n",
       "      <td>0</td>\n",
       "      <td>1</td>\n",
       "      <td>0</td>\n",
       "      <td>0</td>\n",
       "      <td>0</td>\n",
       "      <td>0</td>\n",
       "      <td>0</td>\n",
       "      <td>0</td>\n",
       "      <td>0</td>\n",
       "    </tr>\n",
       "    <tr>\n",
       "      <th>4</th>\n",
       "      <td>5</td>\n",
       "      <td>V Blues for a Red Planet In the orchards of t...</td>\n",
       "      <td>0</td>\n",
       "      <td>0</td>\n",
       "      <td>0</td>\n",
       "      <td>0</td>\n",
       "      <td>0</td>\n",
       "      <td>0</td>\n",
       "      <td>0</td>\n",
       "      <td>0</td>\n",
       "      <td>...</td>\n",
       "      <td>0</td>\n",
       "      <td>0</td>\n",
       "      <td>0</td>\n",
       "      <td>0</td>\n",
       "      <td>0</td>\n",
       "      <td>0</td>\n",
       "      <td>0</td>\n",
       "      <td>0</td>\n",
       "      <td>0</td>\n",
       "      <td>0</td>\n",
       "    </tr>\n",
       "  </tbody>\n",
       "</table>\n",
       "<p>5 rows × 10693 columns</p>\n",
       "</div>"
      ],
      "text/plain": [
       "   Chapters                                              Texts  abalone  \\\n",
       "0         1   I The Shores of the Cosmic Ocean The first me...        0   \n",
       "1         2   II One Voice in the Cosmic Fugue I am bidden ...        0   \n",
       "2         3   III The Harmony of Worlds Do you know the ord...        0   \n",
       "3         4   IV Heaven and Hell Nine worlds I remember. - ...        0   \n",
       "4         5   V Blues for a Red Planet In the orchards of t...        0   \n",
       "\n",
       "   abandon  abandoned  abbott  abdera  aberration  abide  abiding  ...  zest  \\\n",
       "0        0          0       0       0           0      0        0  ...     0   \n",
       "1        0          0       0       0           0      1        0  ...     0   \n",
       "2        2          1       0       0           0      0        0  ...     0   \n",
       "3        0          1       0       0           0      0        0  ...     0   \n",
       "4        0          0       0       0           0      0        0  ...     0   \n",
       "\n",
       "   zeus  zhou  zodiac  zodiacal  zone  zones  zoo  zoroaster  zoroastrian  \n",
       "0     0     0       0         0     1      0    1          0            0  \n",
       "1     0     0       0         0     0      0    0          0            0  \n",
       "2     0     0       2         0     0      0    0          0            1  \n",
       "3     0     1       0         0     0      0    0          0            0  \n",
       "4     0     0       0         0     0      0    0          0            0  \n",
       "\n",
       "[5 rows x 10693 columns]"
      ]
     },
     "execution_count": 14,
     "metadata": {},
     "output_type": "execute_result"
    }
   ],
   "source": [
    "counts = vec.fit_transform(df['Texts'])\n",
    "counts = counts.toarray()\n",
    "count_df = pd.DataFrame(counts, columns = vec.get_feature_names_out())\n",
    "df = pd.concat((df,count_df), axis = 1)\n",
    "df = df.drop(columns = df.columns[2:241])\n",
    "\n",
    "df.head(5)"
   ]
  },
  {
   "cell_type": "markdown",
   "metadata": {},
   "source": [
    "Because topic modeling is a form of unsupervised machine learning, I will only need to define `X`, the predictor data, as shown below. `X` must not contain columns `['Chapters','Texts']` as only the term-document matrix portion of the data frame will be fed into the algorithm."
   ]
  },
  {
   "cell_type": "code",
   "execution_count": 15,
   "metadata": {},
   "outputs": [
    {
     "data": {
      "text/html": [
       "<div>\n",
       "<style scoped>\n",
       "    .dataframe tbody tr th:only-of-type {\n",
       "        vertical-align: middle;\n",
       "    }\n",
       "\n",
       "    .dataframe tbody tr th {\n",
       "        vertical-align: top;\n",
       "    }\n",
       "\n",
       "    .dataframe thead th {\n",
       "        text-align: right;\n",
       "    }\n",
       "</style>\n",
       "<table border=\"1\" class=\"dataframe\">\n",
       "  <thead>\n",
       "    <tr style=\"text-align: right;\">\n",
       "      <th></th>\n",
       "      <th>abalone</th>\n",
       "      <th>abandon</th>\n",
       "      <th>abandoned</th>\n",
       "      <th>abbott</th>\n",
       "      <th>abdera</th>\n",
       "      <th>aberration</th>\n",
       "      <th>abide</th>\n",
       "      <th>abiding</th>\n",
       "      <th>abilities</th>\n",
       "      <th>ability</th>\n",
       "      <th>...</th>\n",
       "      <th>zest</th>\n",
       "      <th>zeus</th>\n",
       "      <th>zhou</th>\n",
       "      <th>zodiac</th>\n",
       "      <th>zodiacal</th>\n",
       "      <th>zone</th>\n",
       "      <th>zones</th>\n",
       "      <th>zoo</th>\n",
       "      <th>zoroaster</th>\n",
       "      <th>zoroastrian</th>\n",
       "    </tr>\n",
       "  </thead>\n",
       "  <tbody>\n",
       "    <tr>\n",
       "      <th>0</th>\n",
       "      <td>0</td>\n",
       "      <td>0</td>\n",
       "      <td>0</td>\n",
       "      <td>0</td>\n",
       "      <td>0</td>\n",
       "      <td>0</td>\n",
       "      <td>0</td>\n",
       "      <td>0</td>\n",
       "      <td>0</td>\n",
       "      <td>0</td>\n",
       "      <td>...</td>\n",
       "      <td>0</td>\n",
       "      <td>0</td>\n",
       "      <td>0</td>\n",
       "      <td>0</td>\n",
       "      <td>0</td>\n",
       "      <td>1</td>\n",
       "      <td>0</td>\n",
       "      <td>1</td>\n",
       "      <td>0</td>\n",
       "      <td>0</td>\n",
       "    </tr>\n",
       "    <tr>\n",
       "      <th>1</th>\n",
       "      <td>0</td>\n",
       "      <td>0</td>\n",
       "      <td>0</td>\n",
       "      <td>0</td>\n",
       "      <td>0</td>\n",
       "      <td>0</td>\n",
       "      <td>1</td>\n",
       "      <td>0</td>\n",
       "      <td>0</td>\n",
       "      <td>0</td>\n",
       "      <td>...</td>\n",
       "      <td>0</td>\n",
       "      <td>0</td>\n",
       "      <td>0</td>\n",
       "      <td>0</td>\n",
       "      <td>0</td>\n",
       "      <td>0</td>\n",
       "      <td>0</td>\n",
       "      <td>0</td>\n",
       "      <td>0</td>\n",
       "      <td>0</td>\n",
       "    </tr>\n",
       "    <tr>\n",
       "      <th>2</th>\n",
       "      <td>0</td>\n",
       "      <td>2</td>\n",
       "      <td>1</td>\n",
       "      <td>0</td>\n",
       "      <td>0</td>\n",
       "      <td>0</td>\n",
       "      <td>0</td>\n",
       "      <td>0</td>\n",
       "      <td>0</td>\n",
       "      <td>2</td>\n",
       "      <td>...</td>\n",
       "      <td>0</td>\n",
       "      <td>0</td>\n",
       "      <td>0</td>\n",
       "      <td>2</td>\n",
       "      <td>0</td>\n",
       "      <td>0</td>\n",
       "      <td>0</td>\n",
       "      <td>0</td>\n",
       "      <td>0</td>\n",
       "      <td>1</td>\n",
       "    </tr>\n",
       "    <tr>\n",
       "      <th>3</th>\n",
       "      <td>0</td>\n",
       "      <td>0</td>\n",
       "      <td>1</td>\n",
       "      <td>0</td>\n",
       "      <td>0</td>\n",
       "      <td>0</td>\n",
       "      <td>0</td>\n",
       "      <td>0</td>\n",
       "      <td>0</td>\n",
       "      <td>1</td>\n",
       "      <td>...</td>\n",
       "      <td>0</td>\n",
       "      <td>0</td>\n",
       "      <td>1</td>\n",
       "      <td>0</td>\n",
       "      <td>0</td>\n",
       "      <td>0</td>\n",
       "      <td>0</td>\n",
       "      <td>0</td>\n",
       "      <td>0</td>\n",
       "      <td>0</td>\n",
       "    </tr>\n",
       "    <tr>\n",
       "      <th>4</th>\n",
       "      <td>0</td>\n",
       "      <td>0</td>\n",
       "      <td>0</td>\n",
       "      <td>0</td>\n",
       "      <td>0</td>\n",
       "      <td>0</td>\n",
       "      <td>0</td>\n",
       "      <td>0</td>\n",
       "      <td>1</td>\n",
       "      <td>0</td>\n",
       "      <td>...</td>\n",
       "      <td>0</td>\n",
       "      <td>0</td>\n",
       "      <td>0</td>\n",
       "      <td>0</td>\n",
       "      <td>0</td>\n",
       "      <td>0</td>\n",
       "      <td>0</td>\n",
       "      <td>0</td>\n",
       "      <td>0</td>\n",
       "      <td>0</td>\n",
       "    </tr>\n",
       "  </tbody>\n",
       "</table>\n",
       "<p>5 rows × 10691 columns</p>\n",
       "</div>"
      ],
      "text/plain": [
       "   abalone  abandon  abandoned  abbott  abdera  aberration  abide  abiding  \\\n",
       "0        0        0          0       0       0           0      0        0   \n",
       "1        0        0          0       0       0           0      1        0   \n",
       "2        0        2          1       0       0           0      0        0   \n",
       "3        0        0          1       0       0           0      0        0   \n",
       "4        0        0          0       0       0           0      0        0   \n",
       "\n",
       "   abilities  ability  ...  zest  zeus  zhou  zodiac  zodiacal  zone  zones  \\\n",
       "0          0        0  ...     0     0     0       0         0     1      0   \n",
       "1          0        0  ...     0     0     0       0         0     0      0   \n",
       "2          0        2  ...     0     0     0       2         0     0      0   \n",
       "3          0        1  ...     0     0     1       0         0     0      0   \n",
       "4          1        0  ...     0     0     0       0         0     0      0   \n",
       "\n",
       "   zoo  zoroaster  zoroastrian  \n",
       "0    1          0            0  \n",
       "1    0          0            0  \n",
       "2    0          0            1  \n",
       "3    0          0            0  \n",
       "4    0          0            0  \n",
       "\n",
       "[5 rows x 10691 columns]"
      ]
     },
     "execution_count": 15,
     "metadata": {},
     "output_type": "execute_result"
    }
   ],
   "source": [
    "X = df.copy()\n",
    "X = X.drop(['Chapters','Texts'], axis = 1) # remove these columns\n",
    "X.head(5)"
   ]
  },
  {
   "cell_type": "markdown",
   "metadata": {},
   "source": [
    "There are many algorithms for topic modeling, but in this project I will use nonnegative matrix factorization, or NMF.\n",
    "\n",
    "NMF decomposes the term-document matrix into topics. It starts with a matrix $X\\sim\\text{documents}\\times \\text{words}$. Then it factors $X=WH$ where $W=\\text{documents}\\times \\text{topics}$ and $H=\\text{topics}\\times\\text{words}$. \n",
    "\n",
    "In other words, the frequency of each word in every document is observed prior to factorization. Once the factorization is complete, the strength of association between a word and a specific topic, as well as the strength of association between a topic and a particular document, are evaluatd.\n",
    "\n",
    "This process can be broken down into three steps: \n",
    "\n",
    "1. Import the desired model. \n",
    "2. Initialize an instance of the model. \n",
    "3. Fit the model on data. \n",
    "\n",
    "NMF requires the `n_components` argument to be defined, which is the number of topics to find. `topic_count` will represent the number of topics to find, which in this case is 6."
   ]
  },
  {
   "cell_type": "code",
   "execution_count": 16,
   "metadata": {},
   "outputs": [
    {
     "data": {
      "text/plain": [
       "NMF(init='random', n_components=6, random_state=0)"
      ]
     },
     "execution_count": 16,
     "metadata": {},
     "output_type": "execute_result"
    }
   ],
   "source": [
    "from sklearn.decomposition import NMF\n",
    "\n",
    "topic_count = 6\n",
    "\n",
    "model = NMF(n_components = topic_count, init = \"random\", random_state = 0)\n",
    "model.fit(X)"
   ]
  },
  {
   "cell_type": "markdown",
   "metadata": {},
   "source": [
    "The topics are stored in the `components_` attribute of the model. "
   ]
  },
  {
   "cell_type": "code",
   "execution_count": 17,
   "metadata": {},
   "outputs": [
    {
     "data": {
      "text/plain": [
       "array([[0.00000000e+00, 4.38327998e-04, 5.87630311e-01, ...,\n",
       "        5.69921708e-03, 0.00000000e+00, 8.12735934e-03],\n",
       "       [2.57911015e-01, 0.00000000e+00, 1.17641114e-01, ...,\n",
       "        5.35679973e-02, 0.00000000e+00, 0.00000000e+00],\n",
       "       [0.00000000e+00, 0.00000000e+00, 0.00000000e+00, ...,\n",
       "        4.23148239e-02, 0.00000000e+00, 2.47897842e-03],\n",
       "       [0.00000000e+00, 8.23434995e-03, 0.00000000e+00, ...,\n",
       "        0.00000000e+00, 0.00000000e+00, 8.50726610e-03],\n",
       "       [0.00000000e+00, 0.00000000e+00, 0.00000000e+00, ...,\n",
       "        4.49517105e-02, 0.00000000e+00, 0.00000000e+00],\n",
       "       [0.00000000e+00, 1.38439934e+00, 1.70545305e+00, ...,\n",
       "        1.10542798e-01, 4.20720050e-01, 4.81282563e-01]])"
      ]
     },
     "execution_count": 17,
     "metadata": {},
     "output_type": "execute_result"
    }
   ],
   "source": [
    "model.components_ # show components_ of the model"
   ]
  },
  {
   "cell_type": "code",
   "execution_count": 18,
   "metadata": {},
   "outputs": [
    {
     "data": {
      "text/plain": [
       "(6, 10691)"
      ]
     },
     "execution_count": 18,
     "metadata": {},
     "output_type": "execute_result"
    }
   ],
   "source": [
    "model.components_.shape # show shape of the model's components_"
   ]
  },
  {
   "cell_type": "markdown",
   "metadata": {},
   "source": [
    "As seen in the output above, each row represents a distinct component. Each component can be thought of as a collection of weights for each word.\n",
    "\n",
    "The most important words in each component can be found by identifying the words with the highest weights within that component. This will be accomplished using the `np.argsort()` function, which indicates the entries of an array that are the largest, second largest, and so on."
   ]
  },
  {
   "cell_type": "code",
   "execution_count": 19,
   "metadata": {},
   "outputs": [
    {
     "data": {
      "text/plain": [
       "array([[    0,  5743,  5742, ...,  1744,  1742, 10300],\n",
       "       [ 5345,  5723,  5722, ..., 10424,  6406,  1594],\n",
       "       [    0,  5895,  5894, ..., 10393,  4669,  5281],\n",
       "       [    0,  6253,  6252, ..., 10333,  5770,  5767],\n",
       "       [    0,  6187,  6186, ...,  9327,  7513,   666],\n",
       "       [    0,  4577,  4573, ...,   897,  3773,  6118]])"
      ]
     },
     "execution_count": 19,
     "metadata": {},
     "output_type": "execute_result"
    }
   ],
   "source": [
    "orders = np.argsort(model.components_, axis = 1)\n",
    "orders # show orders"
   ]
  },
  {
   "cell_type": "markdown",
   "metadata": {},
   "source": [
    "The words are then arranged by `orders`."
   ]
  },
  {
   "cell_type": "code",
   "execution_count": 20,
   "metadata": {},
   "outputs": [
    {
     "data": {
      "text/plain": [
       "array([['abalone', 'manuscript', 'manufactures', ..., 'comets', 'comet',\n",
       "        'venus'],\n",
       "       ['konigsberg', 'maneuver', 'manetho', ..., 'war', 'nuclear',\n",
       "        'civilization'],\n",
       "       ['abalone', 'messages', 'message', ..., 'voyager', 'huygens',\n",
       "        'jupiter'],\n",
       "       ['abalone', 'navigators', 'navigations', ..., 'viking', 'martian',\n",
       "        'mars'],\n",
       "       ['abalone', 'mutating', 'mustering', ..., 'supernova', 'protons',\n",
       "        'atoms'],\n",
       "       ['abalone', 'honors', 'hominid', ..., 'believed', 'flame',\n",
       "        'motion']], dtype=object)"
      ]
     },
     "execution_count": 20,
     "metadata": {},
     "output_type": "execute_result"
    }
   ],
   "source": [
    "important_words = np.array(X.columns)[orders]\n",
    "important_words # show the words as arranged by orders"
   ]
  },
  {
   "cell_type": "markdown",
   "metadata": {},
   "source": [
    "Because this process will be applied iteratively, a function will be defined."
   ]
  },
  {
   "cell_type": "code",
   "execution_count": 21,
   "metadata": {},
   "outputs": [],
   "source": [
    "def top_words(X, model, component, num_words):\n",
    "    orders = np.argsort(model.components_, axis = 1)\n",
    "    important_words = np.array(X.columns)[orders]\n",
    "\n",
    "    return important_words[component][-num_words:]"
   ]
  },
  {
   "cell_type": "markdown",
   "metadata": {},
   "source": [
    "Assigning topics to each document based on weights is an important aspect of topic modeling, and this will be done with the `transform()` method of the model."
   ]
  },
  {
   "cell_type": "code",
   "execution_count": 22,
   "metadata": {},
   "outputs": [
    {
     "data": {
      "text/plain": [
       "array([[0.01850533, 0.22878405, 0.07659417, 0.        , 0.05508537,\n",
       "        0.119826  ],\n",
       "       [0.00883732, 0.63032278, 0.07774356, 0.05489606, 0.2476392 ,\n",
       "        0.01076627],\n",
       "       [0.06640471, 0.        , 0.04856012, 0.06798911, 0.        ,\n",
       "        1.11583166]])"
      ]
     },
     "execution_count": 22,
     "metadata": {},
     "output_type": "execute_result"
    }
   ],
   "source": [
    "weights = model.transform(X)\n",
    "weights[:3]"
   ]
  },
  {
   "cell_type": "markdown",
   "metadata": {},
   "source": [
    "`weights` can be visualized, via `matplotlib`."
   ]
  },
  {
   "cell_type": "code",
   "execution_count": 23,
   "metadata": {},
   "outputs": [
    {
     "data": {
      "text/plain": [
       "[Text(0.5, 0, 'Chapters'), Text(0, 0.5, 'Topic')]"
      ]
     },
     "execution_count": 23,
     "metadata": {},
     "output_type": "execute_result"
    },
    {
     "data": {
      "image/png": "[encoded data removed]",
      "text/plain": [
       "<Figure size 432x288 with 1 Axes>"
      ]
     },
     "metadata": {
      "needs_background": "light"
     },
     "output_type": "display_data"
    }
   ],
   "source": [
    "fig, ax = plt.subplots(1)\n",
    "\n",
    "ax.imshow(weights.T)\n",
    "ax.set(xlabel = \"Chapters\",\n",
    "       ylabel = \"Topic\")"
   ]
  },
  {
   "cell_type": "markdown",
   "metadata": {},
   "source": [
    "The weights indicate the relative presence of each topic in each chapter. For instance, Topics 2 and 3 are highly present in chapters 4 and 5, and topic 1 becomes increasingly more presenent throughout chapters 10 through 12.\n",
    "\n",
    "The weights will now be visualized as a line chart. In addition, labels featuring some of the top words for each topic will be added."
   ]
  },
  {
   "cell_type": "code",
   "execution_count": 24,
   "metadata": {},
   "outputs": [
    {
     "data": {
      "text/plain": [
       "<matplotlib.legend.Legend at 0x7fda125c5a00>"
      ]
     },
     "execution_count": 24,
     "metadata": {},
     "output_type": "execute_result"
    },
    {
     "data": {
      "image/png": "[encoded data removed]",
      "text/plain": [
       "<Figure size 504x360 with 1 Axes>"
      ]
     },
     "metadata": {
      "needs_background": "light"
     },
     "output_type": "display_data"
    }
   ],
   "source": [
    "fig, ax = plt.subplots(1, figsize = (7,5))\n",
    "\n",
    "for i in range(topic_count):\n",
    "    ax.plot(df['Chapters'], weights[:,i], label = top_words(X,model,i,10))\n",
    "\n",
    "ax.set(xlabel = \"Chapters\",\n",
    "       ylabel = \"Weight\")\n",
    "ax.legend(bbox_to_anchor=(1.05,.9),loc='upper left')"
   ]
  },
  {
   "cell_type": "markdown",
   "metadata": {},
   "source": [
    "As evident in the figure above, my initial hypothesis is supported by the data: in the later chapters (11 through 13) Dr. Sagan explores the broader implications of the scientific findings he discusses in the earlier chapters, as seen in the orange line that represents the topic most closely related to words like 'advanced', 'technology', 'weapons', 'information', 'war', 'nuclear', and 'civilization', which are far more introspective and imaginative than the other salient words. \n",
    "\n",
    "Dr. Sagan's message in these chapters is significant in regards to the book as a whole because it emphasizes the interconnectedness of all life in the universe and the importance of understanding our place within it. He encourages us to think beyond our own planet and consider the possibility of life elsewhere in the cosmos. Dr. Sagan's work in *Cosmos* is a call to action for humanity to embrace scientific curiosity and pursue knowledge for the betterment of all."
   ]
  }
 ],
 "metadata": {
  "kernelspec": {
   "display_name": "Python 3 (ipykernel)",
   "language": "python",
   "name": "python3"
  },
  "language_info": {
   "codemirror_mode": {
    "name": "ipython",
    "version": 3
   },
   "file_extension": ".py",
   "mimetype": "text/x-python",
   "name": "python",
   "nbconvert_exporter": "python",
   "pygments_lexer": "ipython3",
   "version": "3.9.12"
  }
 },
 "nbformat": 4,
 "nbformat_minor": 4
}
